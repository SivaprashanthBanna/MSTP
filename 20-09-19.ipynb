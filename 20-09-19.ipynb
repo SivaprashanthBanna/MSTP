{
 "cells": [
  {
   "cell_type": "markdown",
   "metadata": {},
   "source": [
    "### Day Objectives:\n",
    "- iterations\n",
    "- functions"
   ]
  },
  {
   "cell_type": "markdown",
   "metadata": {},
   "source": [
    "### Iterations:\n",
    "- for\n",
    "- while"
   ]
  },
  {
   "cell_type": "code",
   "execution_count": 2,
   "metadata": {},
   "outputs": [
    {
     "name": "stdout",
     "output_type": "stream",
     "text": [
      "1\n",
      "2\n",
      "3\n",
      "4\n",
      "5\n",
      "6\n",
      "7\n",
      "8\n",
      "9\n",
      "10\n"
     ]
    }
   ],
   "source": [
    "for i in range(1,11):   #lowerbound=1\n",
    "    print(i)            #upper bound=11(n+1)"
   ]
  },
  {
   "cell_type": "code",
   "execution_count": 6,
   "metadata": {},
   "outputs": [
    {
     "name": "stdout",
     "output_type": "stream",
     "text": [
      "12345678910"
     ]
    }
   ],
   "source": [
    "for i in range(1,11):  \n",
    "    print(i,end=\"\") "
   ]
  },
  {
   "cell_type": "code",
   "execution_count": 8,
   "metadata": {},
   "outputs": [
    {
     "name": "stdout",
     "output_type": "stream",
     "text": [
      "p y t h o n "
     ]
    }
   ],
   "source": [
    "a=\"python\"\n",
    "for i in a:\n",
    "    print(i,end=\" \")"
   ]
  },
  {
   "cell_type": "code",
   "execution_count": 17,
   "metadata": {},
   "outputs": [
    {
     "name": "stdout",
     "output_type": "stream",
     "text": [
      "1\n",
      "3\n",
      "5\n",
      "7\n",
      "9\n"
     ]
    }
   ],
   "source": [
    "for i in range(1,10,2):    #alternatives\n",
    "    print(i)"
   ]
  },
  {
   "cell_type": "markdown",
   "metadata": {},
   "source": [
    "### while loop"
   ]
  },
  {
   "cell_type": "code",
   "execution_count": 18,
   "metadata": {},
   "outputs": [
    {
     "name": "stdout",
     "output_type": "stream",
     "text": [
      "1 2 3 4 5 6 7 8 9 "
     ]
    }
   ],
   "source": [
    "i=1\n",
    "n=9\n",
    "while i<=n:\n",
    "    print(i,end=\" \")\n",
    "    i=i+1"
   ]
  },
  {
   "cell_type": "code",
   "execution_count": 23,
   "metadata": {},
   "outputs": [
    {
     "name": "stdout",
     "output_type": "stream",
     "text": [
      "1 3 5 7 9 "
     ]
    }
   ],
   "source": [
    "i=1\n",
    "n=9\n",
    "while i<=n:\n",
    "    print(i,end=\" \")\n",
    "    i=i+2"
   ]
  },
  {
   "cell_type": "markdown",
   "metadata": {},
   "source": [
    "### functions\n",
    "- set of statement\n",
    "- reusability"
   ]
  },
  {
   "cell_type": "markdown",
   "metadata": {},
   "source": [
    "### types of functions:\n",
    "- without arguments and without return values\n",
    "- with arguments and with return values\n",
    "- without arguments and with return values\n",
    "- with arguments and without return values"
   ]
  },
  {
   "cell_type": "markdown",
   "metadata": {},
   "source": [
    "### without arguments and without return values"
   ]
  },
  {
   "cell_type": "code",
   "execution_count": 10,
   "metadata": {},
   "outputs": [
    {
     "name": "stdout",
     "output_type": "stream",
     "text": [
      "3\n"
     ]
    }
   ],
   "source": [
    "def adding():\n",
    "    a=1\n",
    "    b=2\n",
    "    print(a+b)\n",
    "adding() "
   ]
  },
  {
   "cell_type": "markdown",
   "metadata": {},
   "source": [
    "### with arguments and with return values"
   ]
  },
  {
   "cell_type": "code",
   "execution_count": 36,
   "metadata": {},
   "outputs": [
    {
     "data": {
      "text/plain": [
       "3"
      ]
     },
     "execution_count": 36,
     "metadata": {},
     "output_type": "execute_result"
    }
   ],
   "source": [
    "def adding(a,b):\n",
    "    add=a+b\n",
    "    return add\n",
    "adding(1,2)"
   ]
  },
  {
   "cell_type": "markdown",
   "metadata": {},
   "source": [
    "### without arguments and with return values"
   ]
  },
  {
   "cell_type": "code",
   "execution_count": 38,
   "metadata": {},
   "outputs": [
    {
     "data": {
      "text/plain": [
       "4"
      ]
     },
     "execution_count": 38,
     "metadata": {},
     "output_type": "execute_result"
    }
   ],
   "source": [
    "def adding():\n",
    "    a=2\n",
    "    b=2\n",
    "    add=a+b\n",
    "    return add\n",
    "adding()\n"
   ]
  },
  {
   "cell_type": "markdown",
   "metadata": {},
   "source": [
    "### with arguments and without return values"
   ]
  },
  {
   "cell_type": "code",
   "execution_count": 45,
   "metadata": {},
   "outputs": [
    {
     "name": "stdout",
     "output_type": "stream",
     "text": [
      "3\n"
     ]
    }
   ],
   "source": [
    "def adding(a,b):\n",
    "    c=a+b\n",
    "    print(c)\n",
    "adding(1,2)"
   ]
  },
  {
   "cell_type": "markdown",
   "metadata": {},
   "source": [
    "### prime number"
   ]
  },
  {
   "cell_type": "code",
   "execution_count": null,
   "metadata": {},
   "outputs": [],
   "source": [
    "n=int(input())\n",
    "for i in range (1,n):\n",
    "    if n%i==0:\n",
    "        count=+1\n",
    "if count==2:\n",
    "    print(\"prime\")\n",
    "else:\n",
    "    print(\"not prime\")\n",
    "\n",
    "    "
   ]
  },
  {
   "cell_type": "markdown",
   "metadata": {},
   "source": [
    "### Tasks:\n",
    "#### n natural numbers by using for and while\n",
    "#### print the alternaives in the given range\n",
    "#### print reverse of a given range\n",
    "#### print even numbers in given range\n",
    "#### print odd numbers \n",
    "#### print sum of numbers\n",
    "#### avg of all numbers\n",
    "#### all numbers divisible by 6 not a factor of 1000\n",
    "#### avg of cubes of all even numbers in a given range"
   ]
  },
  {
   "cell_type": "code",
   "execution_count": 8,
   "metadata": {},
   "outputs": [
    {
     "name": "stdout",
     "output_type": "stream",
     "text": [
      "10\n",
      "1 2 3 4 5 6 7 8 9 "
     ]
    }
   ],
   "source": [
    "n=int(input()) \n",
    "def num(n):       \n",
    "    for i in range(1,n):\n",
    "        print(i,end=\" \")\n",
    "num(n)    "
   ]
  },
  {
   "cell_type": "code",
   "execution_count": 7,
   "metadata": {},
   "outputs": [
    {
     "name": "stdout",
     "output_type": "stream",
     "text": [
      "10\n",
      "1 3 5 7 9 "
     ]
    }
   ],
   "source": [
    "n=int(input())\n",
    "def num(n):\n",
    "    i=1\n",
    "    while i<=n:\n",
    "        print(i,end=\" \")\n",
    "        i=i+2\n",
    "num(n)\n",
    "    "
   ]
  },
  {
   "cell_type": "code",
   "execution_count": 12,
   "metadata": {},
   "outputs": [
    {
     "name": "stdout",
     "output_type": "stream",
     "text": [
      "10\n",
      "10 9 8 7 6 5 4 3 2 1 0 "
     ]
    }
   ],
   "source": [
    "n=int(input())\n",
    "def reverse(n):\n",
    "    for i in range(n,-1,-1):\n",
    "        print(i,end=\" \")\n",
    "reverse(n)"
   ]
  },
  {
   "cell_type": "code",
   "execution_count": 13,
   "metadata": {},
   "outputs": [
    {
     "name": "stdout",
     "output_type": "stream",
     "text": [
      "10\n",
      "1 3 5 7 9 "
     ]
    }
   ],
   "source": [
    "n=int(input())\n",
    "def reverse(n):\n",
    "    for i in range(1,n+1,2):\n",
    "        print(i,end=\" \")\n",
    "reverse(n)"
   ]
  },
  {
   "cell_type": "code",
   "execution_count": 21,
   "metadata": {},
   "outputs": [
    {
     "name": "stdout",
     "output_type": "stream",
     "text": [
      "10\n",
      "2 4 6 8 "
     ]
    }
   ],
   "source": [
    "n=int(input())\n",
    "def even(n):\n",
    "    for i in range(1,n):\n",
    "        if i%2==0:\n",
    "            print(i,end=\" \")\n",
    "even(n)"
   ]
  },
  {
   "cell_type": "code",
   "execution_count": 22,
   "metadata": {},
   "outputs": [
    {
     "name": "stdout",
     "output_type": "stream",
     "text": [
      "10\n",
      "1 3 5 7 9 "
     ]
    }
   ],
   "source": [
    "n=int(input())\n",
    "def odd(n):\n",
    "    for i in range(1,n):\n",
    "        if i%2==1:\n",
    "            print(i,end=\" \")\n",
    "odd(n)"
   ]
  },
  {
   "cell_type": "code",
   "execution_count": null,
   "metadata": {},
   "outputs": [],
   "source": [
    "n=int(input())\n",
    "def sum(n):\n",
    "    sum=0\n",
    "    for i in range(1,n+1):\n",
    "        sum=sum+i\n",
    "    print(sum)\n",
    "sum(n)"
   ]
  },
  {
   "cell_type": "code",
   "execution_count": 33,
   "metadata": {},
   "outputs": [
    {
     "name": "stdout",
     "output_type": "stream",
     "text": [
      "10\n",
      "5\n"
     ]
    }
   ],
   "source": [
    "n=int(input())\n",
    "def sum(n):\n",
    "    sum=0\n",
    "    for i in range(1,n+1):\n",
    "        sum=sum+i\n",
    "        b=sum//n\n",
    "    print(b)\n",
    "sum(n)"
   ]
  },
  {
   "cell_type": "code",
   "execution_count": 39,
   "metadata": {},
   "outputs": [
    {
     "name": "stdout",
     "output_type": "stream",
     "text": [
      "500\n",
      "6 12 18 24 30 36 42 48 54 60 66 72 78 84 90 96 102 108 114 120 126 132 138 144 150 156 162 168 174 180 186 192 198 204 210 216 222 228 234 240 246 252 258 264 270 276 282 288 294 300 306 312 318 324 330 336 342 348 354 360 366 372 378 384 390 396 402 408 414 420 426 432 438 444 450 456 462 468 474 480 486 492 498 "
     ]
    }
   ],
   "source": [
    "n=int(input())\n",
    "def div(n):\n",
    "    for i in range(1,n+1):\n",
    "        if i%6==0  and i%1000!=0:\n",
    "            print(i,end=\" \")\n",
    "div(n)"
   ]
  },
  {
   "cell_type": "code",
   "execution_count": 1,
   "metadata": {},
   "outputs": [
    {
     "name": "stdout",
     "output_type": "stream",
     "text": [
      "10\n",
      "360\n"
     ]
    }
   ],
   "source": [
    "n=int(input())\n",
    "def cube(n):\n",
    "    sum=0\n",
    "    c=0\n",
    "    for i in range(1,n+1):\n",
    "        if i%2==0:\n",
    "            sum=sum+i**3\n",
    "            c=c+1\n",
    "    print(sum//c)\n",
    "cube(n)"
   ]
  },
  {
   "cell_type": "code",
   "execution_count": null,
   "metadata": {},
   "outputs": [],
   "source": []
  }
 ],
 "metadata": {
  "kernelspec": {
   "display_name": "Python 3",
   "language": "python",
   "name": "python3"
  },
  "language_info": {
   "codemirror_mode": {
    "name": "ipython",
    "version": 3
   },
   "file_extension": ".py",
   "mimetype": "text/x-python",
   "name": "python",
   "nbconvert_exporter": "python",
   "pygments_lexer": "ipython3",
   "version": "3.7.3"
  }
 },
 "nbformat": 4,
 "nbformat_minor": 2
}
