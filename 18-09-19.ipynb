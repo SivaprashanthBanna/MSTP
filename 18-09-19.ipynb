{
 "cells": [
  {
   "cell_type": "code",
   "execution_count": null,
   "metadata": {},
   "outputs": [],
   "source": [
    "n=int(input())\n",
    "if n%2==0:\n",
    " print(\"even\")\n",
    "else:\n",
    " print(\"odd\")"
   ]
  },
  {
   "cell_type": "code",
   "execution_count": null,
   "metadata": {},
   "outputs": [],
   "source": [
    "n=input()\n",
    "print(n)"
   ]
  },
  {
   "cell_type": "code",
   "execution_count": 1,
   "metadata": {
    "scrolled": true
   },
   "outputs": [
    {
     "name": "stdout",
     "output_type": "stream",
     "text": [
      "1996\n",
      "leap\n"
     ]
    }
   ],
   "source": [
    "n=int(input())\n",
    "if n%400==0 and n%100!=0 or n%4==0:\n",
    " print(\"leap\")\n",
    "else: \n",
    " print(\"not a leap\")"
   ]
  },
  {
   "cell_type": "code",
   "execution_count": null,
   "metadata": {},
   "outputs": [],
   "source": [
    "n=int(input())\n",
    "print(n)"
   ]
  },
  {
   "cell_type": "markdown",
   "metadata": {},
   "source": [
    "### conditional statement in python\n",
    "- if\n",
    "- elseif\n",
    "- else\n",
    "- nested if\n"
   ]
  },
  {
   "cell_type": "code",
   "execution_count": 10,
   "metadata": {},
   "outputs": [
    {
     "name": "stdout",
     "output_type": "stream",
     "text": [
      "50\n",
      "44\n",
      "33\n",
      "not in range\n"
     ]
    }
   ],
   "source": [
    "n=int(input())\n",
    "a=int(input())\n",
    "b=int(input())\n",
    "if n>=a and n<=b:\n",
    "    print(\"given range\")\n",
    "else:\n",
    "    print(\"not in range\")"
   ]
  },
  {
   "cell_type": "code",
   "execution_count": 5,
   "metadata": {},
   "outputs": [
    {
     "name": "stdout",
     "output_type": "stream",
     "text": [
      "100\n",
      "multiple of 10\n"
     ]
    }
   ],
   "source": [
    "n=int(input())\n",
    "if n%10==0:\n",
    "    print(\"multiple of 10\")\n",
    "else:\n",
    "    print(\"not multiple of 10\")"
   ]
  },
  {
   "cell_type": "code",
   "execution_count": 13,
   "metadata": {},
   "outputs": [
    {
     "name": "stdout",
     "output_type": "stream",
     "text": [
      "3\n",
      "not a factor\n"
     ]
    }
   ],
   "source": [
    "n=1000\n",
    "i=int(input())\n",
    "if n%i==0:\n",
    "    print(\"it is a factor\")\n",
    "else:\n",
    "    print(\"not a factor\")\n",
    "\n",
    "\n"
   ]
  },
  {
   "cell_type": "code",
   "execution_count": 5,
   "metadata": {},
   "outputs": [
    {
     "name": "stdout",
     "output_type": "stream",
     "text": [
      "123\n",
      "123\n",
      "string is a number\n"
     ]
    }
   ],
   "source": [
    "n=int(input())\n",
    "a=str(input())\n",
    "if str(n)==a:\n",
    "    print(\"string is a number\")\n",
    "else:\n",
    "    print(\"no\")"
   ]
  },
  {
   "cell_type": "code",
   "execution_count": null,
   "metadata": {},
   "outputs": [],
   "source": [
    "n=int(input())\n",
    "if n%400==0  and n%100!=0 or n%4==0:\n",
    "    print (366*24*60*60*1000*100)\n",
    "else: \n",
    "    print(\"no\")"
   ]
  },
  {
   "cell_type": "code",
   "execution_count": null,
   "metadata": {},
   "outputs": [],
   "source": []
  }
 ],
 "metadata": {
  "kernelspec": {
   "display_name": "Python 3",
   "language": "python",
   "name": "python3"
  },
  "language_info": {
   "codemirror_mode": {
    "name": "ipython",
    "version": 3
   },
   "file_extension": ".py",
   "mimetype": "text/x-python",
   "name": "python",
   "nbconvert_exporter": "python",
   "pygments_lexer": "ipython3",
   "version": "3.7.3"
  }
 },
 "nbformat": 4,
 "nbformat_minor": 2
}
